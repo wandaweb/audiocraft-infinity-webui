{
  "nbformat": 4,
  "nbformat_minor": 0,
  "metadata": {
    "colab": {
      "provenance": [],
      "gpuType": "T4"
    },
    "kernelspec": {
      "name": "python3",
      "display_name": "Python 3"
    },
    "language_info": {
      "name": "python"
    },
    "accelerator": "GPU"
  },
  "cells": [
    {
      "cell_type": "code",
      "execution_count": null,
      "metadata": {
        "id": "hfPolyhFA9EH"
      },
      "outputs": [],
      "source": [
        "#@markdown # Installation\n",
        "\n",
        "!git clone https://github.com/wandaweb/audiocraft-infinity-webui.git\n",
        "%cd audiocraft-infinity-webui\n",
        "%pwd\n",
        "%pip install -r requirements.txt\n",
        "%cd repositories\n",
        "!git clone --branch v0.0.2 https://github.com/facebookresearch/audiocraft\n",
        "!git clone https://github.com/chavinlo/musicgen_trainer\n",
        "%cd ..\n",
        "%pip install pyngrok"
      ]
    },
    {
      "cell_type": "code",
      "source": [
        "#@markdown # Option 1: Start WebUI\n",
        "from pyngrok import ngrok, conf\n",
        "import fileinput\n",
        "import sys\n",
        "\n",
        "Ngrok_token = \"\" #@param {type:\"string\"}\n",
        "#@markdown - Add ngrok token (optional), can be obtained on https://ngrok.com\n",
        "#@markdown - Makes it possible to view the result from the webui\n",
        "#@markdown - Outputs are saved in audiocraft-infinity-webui/results\n",
        "\n",
        "share=''\n",
        "if Ngrok_token!=\"\":\n",
        "  ngrok.kill()\n",
        "  srv=ngrok.connect(7860, pyngrok_config=conf.PyngrokConfig(auth_token=Ngrok_token),\n",
        "                    bind_tls=True).public_url\n",
        "  print(srv)\n",
        "else:\n",
        "  share='--share'\n",
        "\n",
        "!python webui.py $share"
      ],
      "metadata": {
        "id": "C87CVSJEB8Rx"
      },
      "execution_count": null,
      "outputs": []
    },
    {
      "cell_type": "code",
      "source": [
        "#@markdown # Option 2: Start WebUI Batch\n",
        "from pyngrok import ngrok, conf\n",
        "import fileinput\n",
        "import sys\n",
        "\n",
        "Ngrok_token = \"\" #@param {type:\"string\"}\n",
        "#@markdown - Add ngrok token (optional), can be obtained on https://ngrok.com\n",
        "#@markdown - Outputs are saved in audiocraft-infinity-webui/results\n",
        "\n",
        "share=''\n",
        "if Ngrok_token!=\"\":\n",
        "  ngrok.kill()\n",
        "  srv=ngrok.connect(7860, pyngrok_config=conf.PyngrokConfig(auth_token=Ngrok_token),\n",
        "                    bind_tls=True).public_url\n",
        "  print(srv)\n",
        "else:\n",
        "  share='--share'\n",
        "\n",
        "!python webuibatch.py $share"
      ],
      "metadata": {
        "id": "251J8H2a1Oa_"
      },
      "execution_count": null,
      "outputs": []
    }
  ]
}